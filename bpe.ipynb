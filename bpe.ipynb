{
 "cells": [
  {
   "cell_type": "code",
   "execution_count": null,
   "id": "bd68f4c1",
   "metadata": {},
   "outputs": [],
   "source": []
  },
  {
   "cell_type": "markdown",
   "id": "01bca71a",
   "metadata": {},
   "source": [
    "# Byte-pair enconding"
   ]
  },
  {
   "cell_type": "code",
   "execution_count": null,
   "id": "2efefd12",
   "metadata": {},
   "outputs": [],
   "source": [
    "# initialized vocabulary will all unique words in the corpus and their counts. Calculate also pair counts, and update vocabulary iterativelly\n",
    "\n",
    "from collections import defaultdict\n",
    "\n",
    "'''\n",
    "generates a vocabulary that represents words as a sequence of characters and tracks their counts\n",
    "'''\n",
    "def initialize_vocabulary(corpus):\n",
    "    vocabulary=defaultdict(int)\n",
    "    charset = set()\n",
    "    for word in corpus:\n",
    "        word_with_marker = \"_\" + word\n",
    "        characters = list(word_with_marker)\n",
    "        charset.update(characters)\n",
    "        tokenized_word = ' '.join(characters)\n",
    "        vocabulary[tokenized_word] += 1\n",
    "    return vocabulary, charset"
   ]
  },
  {
   "cell_type": "code",
   "execution_count": null,
   "id": "1b30f549",
   "metadata": {},
   "outputs": [],
   "source": [
    "# merge more frequency pair of tokens\n",
    "\n",
    "'''\n",
    "How often adjacent token pairs appear in the tokenized vocabulary words '''\n",
    "def get_pair_counts(vocabulary):\n",
    "    pair_counts = defaultdict(int)\n",
    "    for tokenized_word, count in vocabulary.items():\n",
    "        tokens = tokenized_word.split()\n",
    "        for i in range(len(tokens)-1):\n",
    "            pair = (tokens[i], tokens[i+1])\n",
    "            pair_counts[pair] += count\n",
    "    return pair_counts"
   ]
  },
  {
   "cell_type": "code",
   "execution_count": null,
   "id": "82bf6d4d",
   "metadata": {},
   "outputs": [],
   "source": [
    "# merge pairs\n",
    "\n",
    "def merge_pair(vocabulary, pair):\n",
    "    new_vocabulary = {}\n",
    "    bigram = re.escape(' '.join(pair))\n",
    "    pattern = re.compile(r\"(?<!\\S)\" + bigram + r\"(?!\\S)\")\n",
    "    for tokenized_word, count in vocabulary.items():\n",
    "        new_tokenized_word = pattern.sub(\"\".join(pair), tokenized_word)\n",
    "        new_vocabulary[new_tokenized_word] = count\n",
    "    return new_vocabulary\n"
   ]
  }
 ],
 "metadata": {
  "kernelspec": {
   "display_name": "Python 3",
   "language": "python",
   "name": "python3"
  },
  "language_info": {
   "codemirror_mode": {
    "name": "ipython",
    "version": 3
   },
   "file_extension": ".py",
   "mimetype": "text/x-python",
   "name": "python",
   "nbconvert_exporter": "python",
   "pygments_lexer": "ipython3",
   "version": "3.12.1"
  }
 },
 "nbformat": 4,
 "nbformat_minor": 5
}
