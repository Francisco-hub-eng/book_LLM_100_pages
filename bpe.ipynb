{
 "cells": [
  {
   "cell_type": "code",
   "execution_count": null,
   "id": "bd68f4c1",
   "metadata": {},
   "outputs": [],
   "source": []
  },
  {
   "cell_type": "markdown",
   "id": "01bca71a",
   "metadata": {},
   "source": [
    "# Byte-pair enconding"
   ]
  },
  {
   "cell_type": "code",
   "execution_count": null,
   "id": "2efefd12",
   "metadata": {},
   "outputs": [],
   "source": [
    "# initialized vocabulary will all unique words in the corpus and their counts. Calculate also pair counts, and update vocabulary iterativelly\n",
    "\n",
    "def initialize_vocabulary(corpus):\n",
    "    vocabulary=defaultdict(int)\n",
    "    charset = set()\n",
    "    for word in corpus:\n",
    "        word_with_marker = \"_\" + word\n",
    "        characters : list(word_with_marker)\n",
    "        charset.update(characters)\n",
    "        tokenized_word = ' '.join(characters)\n",
    "        vocabulary[tokenized_word] += 1\n",
    "    return vocabulary, charset"
   ]
  }
 ],
 "metadata": {
  "language_info": {
   "name": "python"
  }
 },
 "nbformat": 4,
 "nbformat_minor": 5
}
