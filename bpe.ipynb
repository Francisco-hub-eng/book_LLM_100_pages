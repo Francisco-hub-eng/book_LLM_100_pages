{
 "cells": [
  {
   "cell_type": "code",
   "execution_count": null,
   "id": "bd68f4c1",
   "metadata": {},
   "outputs": [],
   "source": []
  },
  {
   "cell_type": "markdown",
   "id": "01bca71a",
   "metadata": {},
   "source": [
    "# Byte-pair enconding"
   ]
  },
  {
   "cell_type": "code",
   "execution_count": null,
   "id": "2efefd12",
   "metadata": {},
   "outputs": [],
   "source": [
    "# initialized vocabulary will all unique words in the corpus and their counts. Calculate also pair counts, and update vocabulary iterativelly\n",
    "\n",
    "from collections import defaultdict\n",
    "\n",
    "'''\n",
    "generates a vocabulary that represents words as a sequence of characters and tracks their counts\n",
    "'''\n",
    "def initialize_vocabulary(corpus):\n",
    "    vocabulary=defaultdict(int)\n",
    "    charset = set()\n",
    "    for word in corpus:\n",
    "        word_with_marker = \"_\" + word\n",
    "        characters = list(word_with_marker)\n",
    "        charset.update(characters)\n",
    "        tokenized_word = ' '.join(characters)\n",
    "        vocabulary[tokenized_word] += 1\n",
    "    return vocabulary, charset"
   ]
  },
  {
   "cell_type": "code",
   "execution_count": null,
   "id": "1b30f549",
   "metadata": {},
   "outputs": [],
   "source": [
    "# merge more frequency pair of tokens\n",
    "\n",
    "'''\n",
    "How often adjacent token pairs appear in the tokenized vocabulary words '''\n",
    "def get_pair_counts(vocabulary):\n",
    "    pair_counts = defaultdict(int)\n",
    "    for tokenized_word, count in vocabulary.items():\n",
    "        tokens = tokenized_word.split()\n",
    "        for i in range(len(tokens)-1):\n",
    "            pair = (tokens[i], tokens[i+1])\n",
    "            pair_counts[pair] += count\n",
    "    return pair_counts"
   ]
  },
  {
   "cell_type": "code",
   "execution_count": 3,
   "id": "82bf6d4d",
   "metadata": {},
   "outputs": [],
   "source": [
    "# merge pairs\n",
    "\n",
    "import re\n",
    "\n",
    "'''Merges the input token pair in all tokenized words from the vocabulary'''\n",
    "def merge_pair(vocabulary, pair):\n",
    "    new_vocabulary = {}\n",
    "    bigram = re.escape(' '.join(pair))\n",
    "    pattern = re.compile(r\"(?<!\\S)\" + bigram + r\"(?!\\S)\")\n",
    "    for tokenized_word, count in vocabulary.items():\n",
    "        new_tokenized_word = pattern.sub(\"\".join(pair), tokenized_word)\n",
    "        new_vocabulary[new_tokenized_word] = count\n",
    "    return new_vocabulary\n"
   ]
  },
  {
   "cell_type": "code",
   "execution_count": null,
   "id": "cda018ac",
   "metadata": {},
   "outputs": [],
   "source": [
    "# implements BPE algorithm\n",
    "'''processes a corpus to produce the components needed for a tokenizer'''\n",
    "def byte_pair_encoding(corpus, vocab_size):\n",
    "    vocabulary, charset = initialize_vocabulary(corpus)\n",
    "    merges = []\n",
    "    tokens = set(charset)\n",
    "    while len(tokens) < vocab_size:\n",
    "        pair_counts = get_pair_counts(vocabulary)\n",
    "        if not pair_counts:\n",
    "            break\n",
    "        most_frequent_pair = max(pair_counts, key=pair_counts.get)\n",
    "        merges.append(most_frequent_pair)\n",
    "        vocabulary = merge_pair(vocabulary, most_frequent_pair)\n",
    "        new_token = ''.join(most_frequent_pair)\n",
    "        tokens.add(new_token)\n",
    "\n",
    "    return vocabulary, merges, charset, tokens"
   ]
  },
  {
   "cell_type": "code",
   "execution_count": null,
   "id": "3e5bfb01",
   "metadata": {},
   "outputs": [],
   "source": [
    "# tokenize a word using a trained tokenize\n",
    "\n",
    "'''tokenizes a word using merges, vocabulary, and charset from byte_pair_encoding'''\n",
    "def tokenize_word(word, merges, vocabulary, charset, unk_token=\"<UNK>\"):\n",
    "    word = \"_\" + word\n",
    "    if word in vocabulary:\n",
    "        return [word]\n",
    "    tokens = [char if char in charset else unk_token for char in word]\n",
    "\n",
    "    for left, right in merges:\n",
    "        i = 0\n",
    "        while i < len(tokens) - 1:\n",
    "            if tokens[i:i+2] == [left, right]:\n",
    "                tokens[i:i+2] = [left, right]\n",
    "            else:\n",
    "                i += 1\n",
    "    return tokens\n"
   ]
  }
 ],
 "metadata": {
  "kernelspec": {
   "display_name": "Python 3",
   "language": "python",
   "name": "python3"
  },
  "language_info": {
   "codemirror_mode": {
    "name": "ipython",
    "version": 3
   },
   "file_extension": ".py",
   "mimetype": "text/x-python",
   "name": "python",
   "nbconvert_exporter": "python",
   "pygments_lexer": "ipython3",
   "version": "3.12.1"
  }
 },
 "nbformat": 4,
 "nbformat_minor": 5
}
