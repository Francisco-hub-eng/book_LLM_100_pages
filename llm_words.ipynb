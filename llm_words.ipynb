{
 "cells": [
  {
   "cell_type": "markdown",
   "id": "3393916a",
   "metadata": {},
   "source": [
    "# Simple two-layer neural network to classify documents into three classes"
   ]
  },
  {
   "cell_type": "code",
   "execution_count": null,
   "id": "410a4183",
   "metadata": {},
   "outputs": [],
   "source": [
    "# import dependencies, set a random set, and define the dataset\n",
    "\n",
    "import re, torch, torch.nn as nn\n",
    "\n",
    "torch.manual_seed(42)\n",
    "\n",
    "docs = [\n",
    "    \"Movies are fun for everyone\",\n",
    "    \"Watching movies is great fun\",\n",
    "    \"Enjoy a great movie tonight.\",\n",
    "    \"Research is interesting and important\",\n",
    "    \"Learning math is very important\",\n",
    "    \"Science discovery is interesting\",\n",
    "    \"Rock is great to listen to\",\n",
    "    \"Listen to music for fun\",\n",
    "    \"Music is fun for everyone.\",\n",
    "    \"Listen to folk music!.\"\n",
    "]\n",
    "\n",
    "labels = [1,1,1,3,3,3,2,2,2,2]\n",
    "num_classes = len(set(labels))"
   ]
  },
  {
   "cell_type": "code",
   "execution_count": 2,
   "id": "aef040fa",
   "metadata": {},
   "outputs": [],
   "source": [
    "# convert documents to a bag of words using tokenize and get_vocabulary\n",
    "\n",
    "def tokenize(text):\n",
    "    return re.findall(r\"\\w+\", text.lower())\n",
    "\n",
    "def get_vocabulary(texts):\n",
    "    tokens = {token for text in texts for token in tokenize(text)}\n",
    "    return {word: idx for idx, word in enumerate(sorted(tokens))}\n",
    "\n",
    "voabulary = get_vocabulary(docs)"
   ]
  }
 ],
 "metadata": {
  "kernelspec": {
   "display_name": "Python 3",
   "language": "python",
   "name": "python3"
  },
  "language_info": {
   "codemirror_mode": {
    "name": "ipython",
    "version": 3
   },
   "file_extension": ".py",
   "mimetype": "text/x-python",
   "name": "python",
   "nbconvert_exporter": "python",
   "pygments_lexer": "ipython3",
   "version": "3.12.1"
  }
 },
 "nbformat": 4,
 "nbformat_minor": 5
}
