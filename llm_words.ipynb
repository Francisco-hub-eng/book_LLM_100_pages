{
 "cells": [
  {
   "cell_type": "code",
   "execution_count": null,
   "id": "410a4183",
   "metadata": {},
   "outputs": [],
   "source": [
    "import re, torch, torch.nn as nn\n",
    "\n",
    "torch.manual_seed(42)\n",
    "\n",
    "docs = [\n",
    "    \"Movies are fun for everyone\",\n",
    "    \"Watching movies is great fun\",\n",
    "    \"Enjoy a great movie tonight.\",\n",
    "    \"Research is interesting and important\",\n",
    "    \"Learning math is very important\",\n",
    "    \"Science discovery is interesting\",\n",
    "    \"Rock is great to listen to\",\n",
    "    \"Listen to music for fun\",\n",
    "    \"Music is fun for everyone.\",\n",
    "    \"Listen to folk music!.\"\n",
    "]\n",
    "\n",
    "labels = [1,1,1,3,3,3,2,2,2,2]"
   ]
  }
 ],
 "metadata": {
  "language_info": {
   "name": "python"
  }
 },
 "nbformat": 4,
 "nbformat_minor": 5
}
