{
 "cells": [
  {
   "cell_type": "markdown",
   "id": "3ae2768c",
   "metadata": {},
   "source": [
    "# Automatic differentiation\n",
    "## test autograd from torch"
   ]
  },
  {
   "cell_type": "code",
   "execution_count": 1,
   "id": "60d597c4",
   "metadata": {},
   "outputs": [],
   "source": [
    "import torch\n",
    "import torch.nn as nn\n",
    "import torch.optim as optim"
   ]
  },
  {
   "cell_type": "code",
   "execution_count": 3,
   "id": "024dfb27",
   "metadata": {},
   "outputs": [],
   "source": [
    "n_inputs = 2\n",
    "n_outputs = 1\n",
    "\n",
    "model = nn.Sequential(\n",
    "    nn.Linear(n_inputs, n_outputs),\n",
    "    nn.Sigmoid()\n",
    ")"
   ]
  },
  {
   "cell_type": "code",
   "execution_count": 4,
   "id": "5649298b",
   "metadata": {},
   "outputs": [],
   "source": [
    "inputs = torch.tensor([\n",
    "    [22,25],[25,35],[47,80],[52,95],[46,82],[56,90],\n",
    "    [23,27],[30,50],[40,60],[39,57],[53,95],[48,88]\n",
    "], dtype=torch.float32)\n",
    "\n",
    "labels = torch.tensor([\n",
    "    [0], [0], [1], [1], [1],[1], [0],[1],[1],[0],[1],[1]\n",
    "], dtype=torch.float32)\n",
    "\n",
    "model = nn.Sequential(\n",
    "    nn.Linear(inputs.shape[1], 1),\n",
    "    nn.Sigmoid()\n",
    ")\n",
    "\n",
    "optimizer = optim.SGD(model.parameters(), lr = 0.001)\n",
    "criterion = nn.BCELoss()\n",
    "\n"
   ]
  },
  {
   "cell_type": "code",
   "execution_count": 5,
   "id": "d7d9862d",
   "metadata": {},
   "outputs": [
    {
     "data": {
      "text/plain": [
       "torch.Size([12, 2])"
      ]
     },
     "execution_count": 5,
     "metadata": {},
     "output_type": "execute_result"
    }
   ],
   "source": [
    "inputs.shape"
   ]
  }
 ],
 "metadata": {
  "kernelspec": {
   "display_name": "Python 3",
   "language": "python",
   "name": "python3"
  },
  "language_info": {
   "codemirror_mode": {
    "name": "ipython",
    "version": 3
   },
   "file_extension": ".py",
   "mimetype": "text/x-python",
   "name": "python",
   "nbconvert_exporter": "python",
   "pygments_lexer": "ipython3",
   "version": "3.12.1"
  }
 },
 "nbformat": 4,
 "nbformat_minor": 5
}
